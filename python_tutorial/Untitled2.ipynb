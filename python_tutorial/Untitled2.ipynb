{
 "cells": [
  {
   "cell_type": "code",
   "execution_count": 4,
   "id": "9157cc3a",
   "metadata": {},
   "outputs": [
    {
     "name": "stdout",
     "output_type": "stream",
     "text": [
      "전화번호를 입력하세요(xxx-xxxx-xxxx) : 010-4125-3339\n"
     ]
    }
   ],
   "source": [
    "header,body,tail = map(int,input(\"전화번호를 입력하세요(xxx-xxxx-xxxx) : \").split('-'))\n"
   ]
  },
  {
   "cell_type": "code",
   "execution_count": 6,
   "id": "49a420a2",
   "metadata": {},
   "outputs": [
    {
     "name": "stdout",
     "output_type": "stream",
     "text": [
      "숫자 세개를 입력하세요 : 12 23 43\n"
     ]
    },
    {
     "data": {
      "text/plain": [
       "'12 23 43'"
      ]
     },
     "execution_count": 6,
     "metadata": {},
     "output_type": "execute_result"
    }
   ],
   "source": [
    "input(\"숫자 세개를 입력하세요 : \")"
   ]
  },
  {
   "cell_type": "code",
   "execution_count": null,
   "id": "361660d9",
   "metadata": {},
   "outputs": [],
   "source": []
  }
 ],
 "metadata": {
  "kernelspec": {
   "display_name": "Python 3 (ipykernel)",
   "language": "python",
   "name": "python3"
  },
  "language_info": {
   "codemirror_mode": {
    "name": "ipython",
    "version": 3
   },
   "file_extension": ".py",
   "mimetype": "text/x-python",
   "name": "python",
   "nbconvert_exporter": "python",
   "pygments_lexer": "ipython3",
   "version": "3.9.5"
  }
 },
 "nbformat": 4,
 "nbformat_minor": 5
}
