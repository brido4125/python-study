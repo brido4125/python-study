{
 "cells": [
  {
   "cell_type": "code",
   "execution_count": 10,
   "id": "6e483bae",
   "metadata": {},
   "outputs": [
    {
     "name": "stdout",
     "output_type": "stream",
     "text": [
      "정수를 입력하세요1.2 4.3 2.5\n",
      "4.3\n"
     ]
    }
   ],
   "source": [
    "x,y,z = input(\"정수를 입력하세요\").split()\n",
    "\n",
    "max = float(x)\n",
    "if(max < float(y) and float(y) > float(z)):\n",
    "    max = float(y)\n",
    "if(max < float(z) and float(z) > float(y)):\n",
    "    max = float(Z)\n",
    "print(max)"
   ]
  },
  {
   "cell_type": "code",
   "execution_count": 30,
   "id": "e2ed96dc",
   "metadata": {},
   "outputs": [
    {
     "name": "stdout",
     "output_type": "stream",
     "text": [
      "정수를 입력하세요 : 10\n",
      "30\n",
      "2.9289682539682538\n"
     ]
    }
   ],
   "source": [
    "num = int(input(\"정수를 입력하세요 : \"))\n",
    "sum = 0\n",
    "inverse_sum = 0;\n",
    "for i in range(num+1):\n",
    "    if(i % 2 == 0):\n",
    "        sum += i;\n",
    "    if(i != 0):\n",
    "        i = 1 / i\n",
    "        inverse_sum += i\n",
    "    \n",
    "print(sum)\n",
    "print(inverse_sum)"
   ]
  },
  {
   "cell_type": "code",
   "execution_count": 35,
   "id": "725bdc38",
   "metadata": {},
   "outputs": [
    {
     "name": "stdout",
     "output_type": "stream",
     "text": [
      "양의 정수를 입력하세요 : 2000\n",
      "윤년입니다.\n"
     ]
    }
   ],
   "source": [
    "year = int(input(\"양의 정수를 입력하세요 : \"))\n",
    "if(year % 400 == 0):\n",
    "    print(\"윤년입니다.\")\n",
    "elif(year % 4 == 0 and year % 100 != 0):\n",
    "    print(\"윤년입니다.\")\n",
    "else:\n",
    "    print(\"윤년이 아닙니다.\")"
   ]
  },
  {
   "cell_type": "code",
   "execution_count": 32,
   "id": "b472eb2a",
   "metadata": {},
   "outputs": [
    {
     "name": "stdout",
     "output_type": "stream",
     "text": [
      "양의 정수를 입력하세요 : 27\n"
     ]
    },
    {
     "data": {
      "text/plain": [
       "False"
      ]
     },
     "execution_count": 32,
     "metadata": {},
     "output_type": "execute_result"
    }
   ],
   "source": [
    "num = int(input(\"양의 정수를 입력하세요 : \"))\n",
    "        \n",
    "def isPrime(num):\n",
    "    if(num < 2):\n",
    "        return False\n",
    "    for i in range(2,num):\n",
    "        if(num%i==0):\n",
    "            return False\n",
    "    return True\n",
    "\n",
    "isPrime(num)"
   ]
  },
  {
   "cell_type": "code",
   "execution_count": null,
   "id": "504fbd3c",
   "metadata": {},
   "outputs": [],
   "source": []
  }
 ],
 "metadata": {
  "kernelspec": {
   "display_name": "Python 3 (ipykernel)",
   "language": "python",
   "name": "python3"
  },
  "language_info": {
   "codemirror_mode": {
    "name": "ipython",
    "version": 3
   },
   "file_extension": ".py",
   "mimetype": "text/x-python",
   "name": "python",
   "nbconvert_exporter": "python",
   "pygments_lexer": "ipython3",
   "version": "3.9.5"
  }
 },
 "nbformat": 4,
 "nbformat_minor": 5
}
