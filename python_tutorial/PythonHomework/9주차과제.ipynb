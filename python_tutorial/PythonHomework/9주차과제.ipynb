{
 "cells": [
  {
   "cell_type": "code",
   "execution_count": 28,
   "id": "f52eab4a",
   "metadata": {},
   "outputs": [
    {
     "name": "stdout",
     "output_type": "stream",
     "text": [
      "숫자입력 : 10 5 -10 7 8 3 -5 -1 0 1\n",
      "평균 = 1.8, 분산 = 34.16, 표준편차 = 5.844655678480983\n"
     ]
    }
   ],
   "source": [
    "import math\n",
    "\n",
    "def convert_str_to_int(L):\n",
    "    for i in range(len(L)):\n",
    "        L[i] = int(L[i])\n",
    "\n",
    "def get_sum(L):\n",
    "    sum = 0\n",
    "    for i in range(len(L)):\n",
    "        sum += L[i]\n",
    "    return sum\n",
    "\n",
    "def my_statistic(L):\n",
    "    convert_str_to_int(L)\n",
    "    sum_L = get_sum(L)\n",
    "    avg_L = sum_L / len(L)\n",
    "    sq_diff_sum = 0\n",
    "    for i in range(len(L)):\n",
    "        diff = L[i] - avg_L\n",
    "        sq_diff_sum += diff**2\n",
    "    var = sq_diff_sum / len(L)\n",
    "    std_dev = math.sqrt(var)\n",
    "    return avg_L,var,std_dev\n",
    "    \n",
    "my_list = []\n",
    "my_list = (input(\"숫자입력 : \").split())\n",
    "print(\"평균 = {}, 분산 = {}, 표준편차 = {}\".format(my_statistic(my_list)[0],my_statistic(my_list)[1],my_statistic(my_list)[2]))"
   ]
  },
  {
   "cell_type": "code",
   "execution_count": null,
   "id": "494ef9cd",
   "metadata": {},
   "outputs": [],
   "source": []
  }
 ],
 "metadata": {
  "kernelspec": {
   "display_name": "Python 3 (ipykernel)",
   "language": "python",
   "name": "python3"
  },
  "language_info": {
   "codemirror_mode": {
    "name": "ipython",
    "version": 3
   },
   "file_extension": ".py",
   "mimetype": "text/x-python",
   "name": "python",
   "nbconvert_exporter": "python",
   "pygments_lexer": "ipython3",
   "version": "3.9.5"
  }
 },
 "nbformat": 4,
 "nbformat_minor": 5
}
