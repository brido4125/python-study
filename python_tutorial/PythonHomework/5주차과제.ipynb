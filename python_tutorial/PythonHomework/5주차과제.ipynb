{
 "cells": [
  {
   "cell_type": "code",
   "execution_count": null,
   "id": "2bc4bb01",
   "metadata": {},
   "outputs": [
    {
     "name": "stdout",
     "output_type": "stream",
     "text": [
      "입력하세요 : +사과\n",
      "현재 식재료 상황\n",
      "{'사과': 1, '우유': 0}\n"
     ]
    }
   ],
   "source": [
    "stock ={\n",
    "    \"사과\":0,\n",
    "    \"우유\":0\n",
    "}\n",
    "\n",
    "while True:\n",
    "    command = input(\"입력하세요 : \")\n",
    "    if(len(command) == 1):\n",
    "        break;\n",
    "    op = command[0]\n",
    "    if(op == '+'):\n",
    "        # dictionary -> key를 통해 value 얻어옴\n",
    "        stock[command[1:]] = stock[command[1:]] + 1\n",
    "    elif(op == '-'):\n",
    "        if(stock[command[1:]] <= 0):\n",
    "            print(\"재료가 없어요\")\n",
    "        elif(stock[command[1:]] > 0):\n",
    "            stock[command[1:]] = stock[command[1:]] - 1\n",
    "    print(\"현재 식재료 상황\")\n",
    "    print(stock)\n"
   ]
  },
  {
   "cell_type": "code",
   "execution_count": 3,
   "id": "560df488",
   "metadata": {},
   "outputs": [
    {
     "name": "stdout",
     "output_type": "stream",
     "text": [
      "[15, 38, 31, 9, 20, 16]\n"
     ]
    }
   ],
   "source": [
    "import random\n",
    "\n",
    "lotto = []\n",
    "\n",
    "while True:\n",
    "    num = random.randint(1,45)\n",
    "    lotto.append(num)\n",
    "    if len(lotto) == 6:\n",
    "        break;\n",
    "print(lotto)"
   ]
  },
  {
   "cell_type": "code",
   "execution_count": 20,
   "id": "9c4c2ee9",
   "metadata": {},
   "outputs": [],
   "source": [
    "def compare_lotto(x,y):\n",
    "    count = 0\n",
    "    for element in y:\n",
    "        if(element in x):\n",
    "            count += 1\n",
    "    if count == 6:\n",
    "        print(\"1등\")\n",
    "    elif count == 5 :\n",
    "        print(\"2등\")\n",
    "    elif count == 4:\n",
    "        print(\"3등\")\n",
    "    elif count == 3:\n",
    "        print(\"4등\")\n",
    "    else:\n",
    "        print(\"꽝\")"
   ]
  },
  {
   "cell_type": "code",
   "execution_count": 22,
   "id": "7c6e6d9e",
   "metadata": {},
   "outputs": [
    {
     "name": "stdout",
     "output_type": "stream",
     "text": [
      "6개의 로또번호는 입력하세요 39 14 37 8 5 2\n",
      "2등\n"
     ]
    }
   ],
   "source": [
    "num_list = []\n",
    "while(True):\n",
    "    num_list = list(map(int,input(\"6개의 로또번호는 입력하세요 \").split()))\n",
    "    if(len(num_list) == 6):\n",
    "        break;\n",
    "    elif(len(num_list) > 6):\n",
    "        print(\"6개보다 많은 수를 입력했습니다.\")\n",
    "    elif(len(num_list) < 6):\n",
    "        print(\"6개보다 적은 수를 입력했습니다.\")\n",
    "\n",
    "compare_lotto(lotto,num_list)\n",
    "\n"
   ]
  },
  {
   "cell_type": "code",
   "execution_count": 13,
   "id": "2fc67d17",
   "metadata": {},
   "outputs": [
    {
     "name": "stdout",
     "output_type": "stream",
     "text": [
      "1번 \n",
      "2번 \n",
      "3번 \n",
      "4번 \n",
      "5번 \n",
      "6번 \n",
      "7번 \n",
      "8번 \n",
      "9번 \n",
      "10번 \n"
     ]
    }
   ],
   "source": [
    "n = 10\n",
    "count = 0\n",
    "for i in range(n):\n",
    "    count = count + 1\n",
    "    if count >= 100:\n",
    "        print(\"%s번 \"%count)\n",
    "        break;\n",
    "    else:\n",
    "        print(\"%s번 \"%count)"
   ]
  },
  {
   "cell_type": "code",
   "execution_count": 18,
   "id": "5dc09fb3",
   "metadata": {},
   "outputs": [
    {
     "name": "stdout",
     "output_type": "stream",
     "text": [
      "4\n"
     ]
    }
   ],
   "source": [
    "_1 = 4\n",
    "print(_1)"
   ]
  },
  {
   "cell_type": "code",
   "execution_count": null,
   "id": "49887504",
   "metadata": {},
   "outputs": [],
   "source": []
  }
 ],
 "metadata": {
  "kernelspec": {
   "display_name": "Python 3 (ipykernel)",
   "language": "python",
   "name": "python3"
  },
  "language_info": {
   "codemirror_mode": {
    "name": "ipython",
    "version": 3
   },
   "file_extension": ".py",
   "mimetype": "text/x-python",
   "name": "python",
   "nbconvert_exporter": "python",
   "pygments_lexer": "ipython3",
   "version": "3.9.5"
  }
 },
 "nbformat": 4,
 "nbformat_minor": 5
}
