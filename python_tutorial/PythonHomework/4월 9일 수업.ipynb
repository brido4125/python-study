{
 "cells": [
  {
   "cell_type": "code",
   "execution_count": null,
   "id": "3629ed35",
   "metadata": {},
   "outputs": [],
   "source": [
    "# 정수 => int type\n",
    "# 파이썬은 데이터 타입을 구분해서 사용하지 않는다.\n",
    "# 정수 하나 입력받는 코드들 작성!"
   ]
  },
  {
   "cell_type": "code",
   "execution_count": 19,
   "id": "c114cc3f",
   "metadata": {},
   "outputs": [
    {
     "name": "stdout",
     "output_type": "stream",
     "text": [
      "정수를 입력하세요 : 44\n",
      "UP\n",
      "정수를 입력하세요 : 88\n",
      "DOWN\n",
      "정수를 입력하세요 : 77\n",
      "DOWN\n",
      "정수를 입력하세요 : 60\n",
      "DOWN\n",
      "정수를 입력하세요 : 50\n",
      "DOWN\n",
      "정수를 입력하세요 : 48\n",
      "DOWN\n",
      "정수를 입력하세요 : 45\n",
      "UP\n",
      "정수를 입력하세요 : 46\n",
      "UP\n",
      "정수를 입력하세요 : 47\n",
      "O\n"
     ]
    }
   ],
   "source": [
    "import random\n",
    "num =  random.randint(1,50)\n",
    "target = 0\n",
    "\n",
    "while(target != num):\n",
    "    target = int(input(\"정수를 입력하세요 : \"))\n",
    "    if(target == num):\n",
    "        print(\"O\")\n",
    "        break\n",
    "    elif(target < num):\n",
    "        print(\"UP\")\n",
    "    elif(target > num):\n",
    "        print(\"DOWN\")\n"
   ]
  },
  {
   "cell_type": "code",
   "execution_count": 13,
   "id": "996a9abf",
   "metadata": {},
   "outputs": [
    {
     "name": "stdout",
     "output_type": "stream",
     "text": [
      "hi\n",
      "hi\n",
      "hi\n",
      "hi\n",
      "hi\n"
     ]
    }
   ],
   "source": [
    "x = 5\n",
    "while (x < 10):\n",
    "    print(\"here is while loop\")\n",
    "    print(\"hi\")\n",
    "    x = x + 1"
   ]
  },
  {
   "cell_type": "code",
   "execution_count": 18,
   "id": "5ad94f42",
   "metadata": {},
   "outputs": [
    {
     "name": "stdout",
     "output_type": "stream",
     "text": [
      "else\n"
     ]
    }
   ],
   "source": [
    "x = 150\n",
    "if x < 100:\n",
    "    print(\"OK\")\n",
    "elif x == 100:\n",
    "    print(\"100\")\n",
    "else:\n",
    "    print(\"else\")"
   ]
  },
  {
   "cell_type": "code",
   "execution_count": 26,
   "id": "39aa9ceb",
   "metadata": {},
   "outputs": [
    {
     "name": "stdout",
     "output_type": "stream",
     "text": [
      "\n",
      "*\n",
      "**\n",
      "***\n",
      "****\n",
      "=======================\n",
      "*\n",
      "**\n",
      "***\n",
      "****\n",
      "=======================\n",
      "*\n",
      "***\n",
      "*****\n",
      "*******\n",
      "*********\n",
      "=======================\n",
      "*****\n",
      "****\n",
      "***\n",
      "**\n",
      "*\n"
     ]
    }
   ],
   "source": [
    "# for(int i = 0 ; i < range ; i++)\n",
    "\n",
    "\n",
    "# public static void main(int x, int y, int z) => 필요한 인자 3개\n",
    "\n",
    "# range() => 안에 들어가는 인자의 갯수를 잘 봐야함!\n",
    "\n",
    "# i가 0(초기값)부터 4까지 증가하면서 반복을 수행한다.=>range에 들어간 인자 : 한개\n",
    "# 한개인경우에는 i값은 초기값 0부터 시작해서 들어간 (인자의 값 -1)까지 1씩 증가한다.\n",
    "for i in range(5):\n",
    "    print(\"*\" * i)\n",
    "print(\"=======================\")\n",
    "\n",
    "# i가 1부터 4까지 증가하면서 반복을 수행한다.=> 인자 : 2개\n",
    "# 첫번째 인자 : i의 초기값, (두번째인자 - 1) 까지 1씩 증가\n",
    "for i in range(1,5):\n",
    "    print(\"*\" * i)\n",
    "print(\"=======================\")\n",
    "\n",
    "# 인자 3개인 경우의 가장 중요한 점 : 3번째 인자의 마이너스 유무 => 3번째 인자가 양의 값이냐 음의 값이냐 차이!\n",
    "# 세번째 인자가 있을 경우 => i값이 얼만큼 증가하는냐 또는 감소하는냐를 결정합니다\n",
    "# i의 초기값 : 1, 증가하는 범위 : 9까지, 세번째 인자 : 2씩 증가함\n",
    "# 1,3,5,7,9\n",
    "for i in range(1,10,2):\n",
    "    print(\"*\" * i)\n",
    "print(\"=======================\")\n",
    "\n",
    "# 5부터 1까지 i를 -1씩 감소시키면서 반복을 수행한다. => 3개\n",
    "for i in range(5,0,-1):\n",
    "    print(\"*\" * i)\n"
   ]
  },
  {
   "cell_type": "code",
   "execution_count": 27,
   "id": "6ebac82a",
   "metadata": {},
   "outputs": [
    {
     "name": "stdout",
     "output_type": "stream",
     "text": [
      "3\n",
      "6\n",
      "9\n",
      "12\n",
      "15\n",
      "18\n",
      "21\n",
      "24\n",
      "27\n",
      "30\n",
      "33\n",
      "36\n",
      "39\n",
      "42\n",
      "45\n",
      "48\n",
      "51\n",
      "54\n",
      "57\n",
      "60\n",
      "63\n",
      "66\n",
      "69\n",
      "72\n",
      "75\n",
      "78\n",
      "81\n",
      "84\n",
      "87\n",
      "90\n",
      "93\n",
      "96\n",
      "99\n"
     ]
    }
   ],
   "source": [
    "for i in range(3,100,3):\n",
    "    print(i)"
   ]
  },
  {
   "cell_type": "code",
   "execution_count": null,
   "id": "906300f6",
   "metadata": {},
   "outputs": [],
   "source": []
  }
 ],
 "metadata": {
  "kernelspec": {
   "display_name": "Python 3 (ipykernel)",
   "language": "python",
   "name": "python3"
  },
  "language_info": {
   "codemirror_mode": {
    "name": "ipython",
    "version": 3
   },
   "file_extension": ".py",
   "mimetype": "text/x-python",
   "name": "python",
   "nbconvert_exporter": "python",
   "pygments_lexer": "ipython3",
   "version": "3.9.5"
  }
 },
 "nbformat": 4,
 "nbformat_minor": 5
}
