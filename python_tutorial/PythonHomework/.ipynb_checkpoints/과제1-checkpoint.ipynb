{
 "cells": [
  {
   "cell_type": "code",
   "execution_count": 2,
   "id": "61e756b6",
   "metadata": {},
   "outputs": [
    {
     "name": "stdout",
     "output_type": "stream",
     "text": [
      "두점 사이의 거리 =  4.0853396431631\n"
     ]
    }
   ],
   "source": [
    "import math\n",
    "\n",
    "# 두 점 사이의 거리 구하기\n",
    "\n",
    "class Point2D:\n",
    "    def __init__(self,x,y):\n",
    "        self.x = x\n",
    "        self.y = y\n",
    "\n",
    "p1 = Point2D(x=5.2,y=4.7)\n",
    "p2 = Point2D(x=1.4,y=3.2)\n",
    "\n",
    "# x 좌표간의 차이, y 좌표간의 차이 구하기\n",
    "a = p2.x - p1.x\n",
    "b = p2.y - p1.y\n",
    "\n",
    "distance = math.sqrt((a * a) + (b * b))\n",
    "print(\"두점 사이의 거리 = \",distance)"
   ]
  },
  {
   "cell_type": "code",
   "execution_count": null,
   "id": "82584aaf",
   "metadata": {},
   "outputs": [],
   "source": []
  }
 ],
 "metadata": {
  "kernelspec": {
   "display_name": "Python 3 (ipykernel)",
   "language": "python",
   "name": "python3"
  },
  "language_info": {
   "codemirror_mode": {
    "name": "ipython",
    "version": 3
   },
   "file_extension": ".py",
   "mimetype": "text/x-python",
   "name": "python",
   "nbconvert_exporter": "python",
   "pygments_lexer": "ipython3",
   "version": "3.9.5"
  }
 },
 "nbformat": 4,
 "nbformat_minor": 5
}
