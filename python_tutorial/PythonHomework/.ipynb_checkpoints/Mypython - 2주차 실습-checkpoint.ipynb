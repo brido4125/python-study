{
 "cells": [
  {
   "cell_type": "code",
   "execution_count": 6,
   "id": "87a119a2",
   "metadata": {},
   "outputs": [
    {
     "name": "stdout",
     "output_type": "stream",
     "text": [
      "홍창섭\n",
      "10715086071862673209484250490600018105614048117055336074437503883703510511249361224931983788156958581275946729175531468251871452856923140435984577574698574803934567774824230985421074605062371141877954182153046474983581941267398767559165543946077062914571196477686542167660429831652624386837205668069376\n"
     ]
    }
   ],
   "source": [
    "#1\n",
    "print(\"홍창섭\")\n",
    "print(pow(2,1000))"
   ]
  },
  {
   "cell_type": "code",
   "execution_count": 7,
   "id": "21a32a97",
   "metadata": {},
   "outputs": [
    {
     "name": "stdout",
     "output_type": "stream",
     "text": [
      "like like like like like like like like like like \n",
      "Gooooooooooooooooooood\n",
      "BeautifulYNU BeautifulYNU BeautifulYNU \n"
     ]
    }
   ],
   "source": [
    "#2\n",
    "print(\"like \"*10)\n",
    "print(\"G\"+\"o\"*20+\"d\")\n",
    "x = \"Beautiful\"\n",
    "y = \"YNU\"\n",
    "print((x+y+\" \")*3)"
   ]
  },
  {
   "cell_type": "code",
   "execution_count": 8,
   "id": "81055a70",
   "metadata": {},
   "outputs": [
    {
     "name": "stdout",
     "output_type": "stream",
     "text": [
      "-29\n",
      "0.0\n",
      "-12\n",
      "0.08333333333333333\n"
     ]
    }
   ],
   "source": [
    "#3\n",
    "x = -2\n",
    "y =5\n",
    "print(2*x - 5*y)\n",
    "print(-(y / 3) + (y / 3)) \n",
    "print(pow(x,y) - 2*x*y)\n",
    "print((3*x+y) / (x -2*y))"
   ]
  },
  {
   "cell_type": "code",
   "execution_count": 9,
   "id": "601c6381",
   "metadata": {},
   "outputs": [
    {
     "name": "stdout",
     "output_type": "stream",
     "text": [
      "-1.0\n",
      "-3.0\n",
      "(-1.0, -3.0)\n"
     ]
    }
   ],
   "source": [
    "#4\n",
    "import math\n",
    "\n",
    "def pos_root_fomula(a,b,c):\n",
    "    return (-b + math.sqrt(pow(b,2)-4*a*c)) / 2\n",
    "\n",
    "def neg_root_fomula(a,b,c):\n",
    "    return (-b - math.sqrt(pow(b,2)-4*a*c)) / 2\n",
    "\n",
    "def root_fomula(a,b,c):\n",
    "    return (-b + math.sqrt(pow(b,2)-4*a*c)) / 2,(-b - math.sqrt(pow(b,2)-4*a*c)) / 2\n",
    "\n",
    "print(pos_root_fomula(1,4,3))\n",
    "print(neg_root_fomula(1,4,3))\n",
    "print(root_fomula(1,4,3))"
   ]
  },
  {
   "cell_type": "code",
   "execution_count": null,
   "id": "8a50454a",
   "metadata": {},
   "outputs": [],
   "source": []
  }
 ],
 "metadata": {
  "kernelspec": {
   "display_name": "Python 3 (ipykernel)",
   "language": "python",
   "name": "python3"
  },
  "language_info": {
   "codemirror_mode": {
    "name": "ipython",
    "version": 3
   },
   "file_extension": ".py",
   "mimetype": "text/x-python",
   "name": "python",
   "nbconvert_exporter": "python",
   "pygments_lexer": "ipython3",
   "version": "3.9.5"
  }
 },
 "nbformat": 4,
 "nbformat_minor": 5
}
