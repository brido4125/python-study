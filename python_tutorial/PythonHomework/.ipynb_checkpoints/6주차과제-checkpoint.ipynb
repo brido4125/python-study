{
 "cells": [
  {
   "cell_type": "code",
   "execution_count": 2,
   "id": "ea149695",
   "metadata": {},
   "outputs": [
    {
     "name": "stdout",
     "output_type": "stream",
     "text": [
      "영어를 입력 (종료는 : q)one\n",
      "일\n",
      "영어를 입력 (종료는 : q)two\n",
      "이\n",
      "영어를 입력 (종료는 : q)nine\n",
      "구\n",
      "영어를 입력 (종료는 : q)q\n"
     ]
    }
   ],
   "source": [
    "#1\n",
    "dic = {\n",
    "    \"one\":\"일\",\n",
    "    \"two\":\"이\",\n",
    "    \"three\":\"삼\",\n",
    "    \"four\":\"사\",\n",
    "    \"five\":\"오\",\n",
    "    \"six\":\"육\",\n",
    "    \"seven\":\"칠\",\n",
    "    \"eight\":\"팔\",\n",
    "    \"nine\":\"구\",\n",
    "    \"ten\":\"십\",\n",
    "}\n",
    "while True:\n",
    "    x = input(\"영어를 입력 (종료는 : q)\")\n",
    "    if(x == \"q\"):\n",
    "        break\n",
    "    print(dic[x])"
   ]
  },
  {
   "cell_type": "code",
   "execution_count": 12,
   "id": "bf496cdf",
   "metadata": {},
   "outputs": [
    {
     "name": "stdout",
     "output_type": "stream",
     "text": [
      "전화번호를 입력하세요 : q\n"
     ]
    }
   ],
   "source": [
    "def checkValidation(ph):\n",
    "    if(len(ph) == 13 and ph[4:8].isdigit() and ph[9:13].isdigit()):\n",
    "        return True\n",
    "    return False\n",
    "    \n",
    "while True:\n",
    "    ph = input(\"전화번호를 입력하세요 : \")\n",
    "    if(ph == 'q'):\n",
    "        break\n",
    "    if(checkValidation(ph) == False):\n",
    "        print(\"잘못된 양식\")\n",
    "    else:\n",
    "        print(\"정확합니다\")\n",
    "\n"
   ]
  },
  {
   "cell_type": "code",
   "execution_count": null,
   "id": "fb1257b0",
   "metadata": {},
   "outputs": [],
   "source": [
    "f = open(\"C:/temp/data.txt\",'r',encoding=\"UTF8\")\n",
    "for line in file:\n",
    "    for word in line.split():\n",
    "        print(word[0].upper(), end = \"\")\n",
    "        print(word[1:], end = \" \")\n",
    "    print()\n",
    "file.close()"
   ]
  },
  {
   "cell_type": "code",
   "execution_count": null,
   "id": "1024ffbf",
   "metadata": {},
   "outputs": [],
   "source": [
    "def add(a, b):\n",
    "    return a + b\n",
    "def sub(a, b):\n",
    "    return a - b\n",
    "def mul(a, b):\n",
    "    return a * b\n",
    "def div(a, b):\n",
    "    return a / b\n",
    "\n",
    "r1 = mul(a=20, b=30)\n",
    "r2 = add(a=10, b=r1)\n",
    "print(r2)"
   ]
  }
 ],
 "metadata": {
  "kernelspec": {
   "display_name": "Python 3 (ipykernel)",
   "language": "python",
   "name": "python3"
  },
  "language_info": {
   "codemirror_mode": {
    "name": "ipython",
    "version": 3
   },
   "file_extension": ".py",
   "mimetype": "text/x-python",
   "name": "python",
   "nbconvert_exporter": "python",
   "pygments_lexer": "ipython3",
   "version": "3.9.5"
  }
 },
 "nbformat": 4,
 "nbformat_minor": 5
}
