{
 "cells": [
  {
   "cell_type": "code",
   "execution_count": 1,
   "id": "06aa4f4f",
   "metadata": {},
   "outputs": [
    {
     "data": {
      "text/html": [
       "<div>\n",
       "<style scoped>\n",
       "    .dataframe tbody tr th:only-of-type {\n",
       "        vertical-align: middle;\n",
       "    }\n",
       "\n",
       "    .dataframe tbody tr th {\n",
       "        vertical-align: top;\n",
       "    }\n",
       "\n",
       "    .dataframe thead th {\n",
       "        text-align: right;\n",
       "    }\n",
       "</style>\n",
       "<table border=\"1\" class=\"dataframe\">\n",
       "  <thead>\n",
       "    <tr style=\"text-align: right;\">\n",
       "      <th></th>\n",
       "      <th>이름</th>\n",
       "      <th>점수</th>\n",
       "      <th>응시횟수</th>\n",
       "      <th>합격여부</th>\n",
       "    </tr>\n",
       "  </thead>\n",
       "  <tbody>\n",
       "    <tr>\n",
       "      <th>a</th>\n",
       "      <td>정수현</td>\n",
       "      <td>12.50</td>\n",
       "      <td>1</td>\n",
       "      <td>yes</td>\n",
       "    </tr>\n",
       "    <tr>\n",
       "      <th>b</th>\n",
       "      <td>윤웅익</td>\n",
       "      <td>9.00</td>\n",
       "      <td>3</td>\n",
       "      <td>no</td>\n",
       "    </tr>\n",
       "    <tr>\n",
       "      <th>c</th>\n",
       "      <td>우성호</td>\n",
       "      <td>16.50</td>\n",
       "      <td>2</td>\n",
       "      <td>yes</td>\n",
       "    </tr>\n",
       "    <tr>\n",
       "      <th>d</th>\n",
       "      <td>김복희</td>\n",
       "      <td>10.85</td>\n",
       "      <td>3</td>\n",
       "      <td>no</td>\n",
       "    </tr>\n",
       "    <tr>\n",
       "      <th>e</th>\n",
       "      <td>홍길동</td>\n",
       "      <td>9.00</td>\n",
       "      <td>2</td>\n",
       "      <td>no</td>\n",
       "    </tr>\n",
       "    <tr>\n",
       "      <th>f</th>\n",
       "      <td>임꺽정</td>\n",
       "      <td>20.00</td>\n",
       "      <td>3</td>\n",
       "      <td>yes</td>\n",
       "    </tr>\n",
       "    <tr>\n",
       "      <th>g</th>\n",
       "      <td>이창신</td>\n",
       "      <td>14.50</td>\n",
       "      <td>1</td>\n",
       "      <td>yes</td>\n",
       "    </tr>\n",
       "    <tr>\n",
       "      <th>h</th>\n",
       "      <td>김완</td>\n",
       "      <td>10.85</td>\n",
       "      <td>1</td>\n",
       "      <td>no</td>\n",
       "    </tr>\n",
       "    <tr>\n",
       "      <th>i</th>\n",
       "      <td>최영규</td>\n",
       "      <td>8.00</td>\n",
       "      <td>2</td>\n",
       "      <td>no</td>\n",
       "    </tr>\n",
       "    <tr>\n",
       "      <th>j</th>\n",
       "      <td>한범석</td>\n",
       "      <td>19.00</td>\n",
       "      <td>1</td>\n",
       "      <td>yes</td>\n",
       "    </tr>\n",
       "  </tbody>\n",
       "</table>\n",
       "</div>"
      ],
      "text/plain": [
       "    이름     점수  응시횟수 합격여부\n",
       "a  정수현  12.50     1  yes\n",
       "b  윤웅익   9.00     3   no\n",
       "c  우성호  16.50     2  yes\n",
       "d  김복희  10.85     3   no\n",
       "e  홍길동   9.00     2   no\n",
       "f  임꺽정  20.00     3  yes\n",
       "g  이창신  14.50     1  yes\n",
       "h   김완  10.85     1   no\n",
       "i  최영규   8.00     2   no\n",
       "j  한범석  19.00     1  yes"
      ]
     },
     "execution_count": 1,
     "metadata": {},
     "output_type": "execute_result"
    }
   ],
   "source": [
    "# 실습 1\n",
    "import pandas as pd\n",
    "import numpy as np\n",
    "\n",
    "\n",
    "exam_data = {\n",
    "    '이름': ['정수현', '윤웅익', '우성호', '김복희', '홍길동', '임꺽정', '이창신', '김완', '최영규', '한범석'],\n",
    "    '점수': [12.5, 9, 16.5, np.nan, 9, 20, 14.5, np.nan, 8, 19],\n",
    "    '응시횟수': [1, 3, 2, 3, 2, 3, 1, 1, 2, 1],\n",
    "    '합격여부': ['yes', 'no', 'yes', 'no', 'no', 'yes', 'yes', 'no', 'no', 'yes']\n",
    "}\n",
    "\n",
    "def cal_avg_with_nan(list):\n",
    "    sum = 0\n",
    "    for i in range(len(list)):\n",
    "        cnt = 0\n",
    "        if np.isnan(list[i]):\n",
    "            cnt += 1\n",
    "        else:\n",
    "            sum += list[i]\n",
    "    avg = sum / len(list) - cnt \n",
    "    return avg\n",
    "        \n",
    "\n",
    "avg = cal_avg_with_nan(exam_data['점수'])\n",
    "        \n",
    "labels=list('abcdefghij')\n",
    "\n",
    "\n",
    "df = pd.DataFrame(exam_data,index = labels)\n",
    "\n",
    "df.fillna(value = avg)"
   ]
  },
  {
   "cell_type": "code",
   "execution_count": 14,
   "id": "7e11a1ea",
   "metadata": {},
   "outputs": [
    {
     "data": {
      "text/plain": [
       "합격여부\n",
       "no     5\n",
       "yes    5\n",
       "dtype: int64"
      ]
     },
     "execution_count": 14,
     "metadata": {},
     "output_type": "execute_result"
    }
   ],
   "source": [
    "# 실습 2\n",
    "\n",
    "import pandas as pd\n",
    "import numpy as np\n",
    "\n",
    "\n",
    "exam_data = {\n",
    "    '이름': ['정수현', '윤웅익', '우성호', '김복희', '홍길동', '임꺽정', '이창신', '김완', '최영규', '한범석'],\n",
    "    '점수': [12.5, 9, 16.5, np.nan, 9, 20, 14.5, np.nan, 8, 19],\n",
    "    '응시횟수': [1, 3, 2, 3, 2, 3, 1, 1, 2, 1],\n",
    "    '합격여부': ['yes', 'no', 'yes', 'no', 'no', 'yes', 'yes', 'no', 'no', 'yes']\n",
    "}\n",
    "\n",
    "labels=list('abcdefghij')\n",
    "\n",
    "df = pd.DataFrame(exam_data,index = labels)\n",
    "df.groupby('합격여부').size()"
   ]
  },
  {
   "cell_type": "code",
   "execution_count": 29,
   "id": "f15c044c",
   "metadata": {},
   "outputs": [
    {
     "data": {
      "image/png": "[encoded data removed]",
      "text/plain": [
       "<Figure size 432x288 with 1 Axes>"
      ]
     },
     "metadata": {
      "needs_background": "light"
     },
     "output_type": "display_data"
    }
   ],
   "source": [
    "# 실습 3\n",
    "\n",
    "import matplotlib.pyplot as plt\n",
    "import numpy as np\n",
    "\n",
    "np.random.seed(0)\n",
    "\n",
    "n = 25\n",
    "area = (20 * np.random.rand(n))**2\n",
    "\n",
    "plt.scatter(np.random.rand(n), np.random.rand(n), s=area, c='purple',alpha=0.5)\n",
    "plt.scatter(np.random.rand(n), np.random.rand(n), s=area, c='green',alpha=0.5)\n",
    "plt.scatter(np.random.rand(n), np.random.rand(n), s=area, c='red',alpha=0.5)\n",
    "plt.scatter(np.random.rand(n), np.random.rand(n), s=area, c='blue',alpha=0.5)\n",
    "\n",
    "plt.show()"
   ]
  },
  {
   "cell_type": "code",
   "execution_count": null,
   "id": "35aab362",
   "metadata": {},
   "outputs": [],
   "source": [
    "\n"
   ]
  }
 ],
 "metadata": {
  "kernelspec": {
   "display_name": "Python 3 (ipykernel)",
   "language": "python",
   "name": "python3"
  },
  "language_info": {
   "codemirror_mode": {
    "name": "ipython",
    "version": 3
   },
   "file_extension": ".py",
   "mimetype": "text/x-python",
   "name": "python",
   "nbconvert_exporter": "python",
   "pygments_lexer": "ipython3",
   "version": "3.9.5"
  }
 },
 "nbformat": 4,
 "nbformat_minor": 5
}
