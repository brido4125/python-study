{
 "cells": [
  {
   "cell_type": "code",
   "execution_count": 7,
   "id": "ea3438fd",
   "metadata": {},
   "outputs": [
    {
     "name": "stdout",
     "output_type": "stream",
     "text": [
      "투입한 금액  : 4000\n",
      "상품의 가격 : 3230\n",
      "거스름돈 : 770원 500원 : 1개, 100원 : 2개, 50원 : 1개, 10원 : 0개\n"
     ]
    }
   ],
   "source": [
    "total_money = int(input(\"투입한 금액  : \"))\n",
    "price = int(input(\"상품의 가격 : \"))\n",
    "\n",
    "change = total_money - price\n",
    "\n",
    "five_hundred = change // 500\n",
    "one_hundred = (change - five_hundred * 500) // 100\n",
    "fifty = (change - (five_hundred * 500 + one_hundred * 100)) // 50\n",
    "ten = (((change % 500) % 100) % 50) // 100\n",
    "\n",
    "print(\"거스름돈 : {}원, 500원 : {}개, 100원 : {}개, 50원 : {}개, 10원 : {}개\".format(change,five_hundred,one_hundred,fifty,ten))"
   ]
  },
  {
   "cell_type": "code",
   "execution_count": null,
   "id": "c8c1b5eb",
   "metadata": {},
   "outputs": [],
   "source": []
  }
 ],
 "metadata": {
  "kernelspec": {
   "display_name": "Python 3 (ipykernel)",
   "language": "python",
   "name": "python3"
  },
  "language_info": {
   "codemirror_mode": {
    "name": "ipython",
    "version": 3
   },
   "file_extension": ".py",
   "mimetype": "text/x-python",
   "name": "python",
   "nbconvert_exporter": "python",
   "pygments_lexer": "ipython3",
   "version": "3.9.5"
  }
 },
 "nbformat": 4,
 "nbformat_minor": 5
}
