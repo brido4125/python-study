{
 "cells": [
  {
   "cell_type": "code",
   "execution_count": 4,
   "id": "5f88fd37",
   "metadata": {},
   "outputs": [
    {
     "name": "stdout",
     "output_type": "stream",
     "text": [
      "자정부터 경과 시간을 초 단위로 입력 : 53457\n",
      "현재 시각 = 14시 50분 57초\n"
     ]
    }
   ],
   "source": [
    "value = int(input(\"자정부터 경과 시간을 초 단위로 입력 : \"))\n",
    "hour = value // 3600\n",
    "hour_mod = value % 3600\n",
    "minute = hour_mod // 60\n",
    "minute_mod = hour_mod % 60\n",
    "print(\"현재 시각 = {}시 {}분 {}초\".format(hour,minute,minute_mod))"
   ]
  },
  {
   "cell_type": "code",
   "execution_count": null,
   "id": "976d7b5d",
   "metadata": {},
   "outputs": [],
   "source": []
  }
 ],
 "metadata": {
  "kernelspec": {
   "display_name": "Python 3 (ipykernel)",
   "language": "python",
   "name": "python3"
  },
  "language_info": {
   "codemirror_mode": {
    "name": "ipython",
    "version": 3
   },
   "file_extension": ".py",
   "mimetype": "text/x-python",
   "name": "python",
   "nbconvert_exporter": "python",
   "pygments_lexer": "ipython3",
   "version": "3.9.5"
  }
 },
 "nbformat": 4,
 "nbformat_minor": 5
}
