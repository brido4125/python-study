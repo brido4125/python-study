{
 "cells": [
  {
   "cell_type": "code",
   "execution_count": 2,
   "id": "6581ee3a",
   "metadata": {},
   "outputs": [
    {
     "name": "stdout",
     "output_type": "stream",
     "text": [
      "숫자 입력 : 55\n",
      "10\n"
     ]
    }
   ],
   "source": [
    "x = int(input(\"숫자 입력 : \"))\n",
    "sum = 0\n",
    "n = 0\n",
    "# 55 입력시 i가 11일때 break 발동\n",
    "for i in range(x):\n",
    "    sum += i\n",
    "    if(sum > x):\n",
    "        break\n",
    "    n = i\n",
    "print(n)"
   ]
  },
  {
   "cell_type": "code",
   "execution_count": 1,
   "id": "3a9a4d95",
   "metadata": {},
   "outputs": [
    {
     "name": "stdout",
     "output_type": "stream",
     "text": [
      "1\n"
     ]
    }
   ],
   "source": [
    "print(3 // 3)"
   ]
  },
  {
   "cell_type": "code",
   "execution_count": 2,
   "id": "ef281062",
   "metadata": {},
   "outputs": [
    {
     "name": "stdout",
     "output_type": "stream",
     "text": [
      "1\n"
     ]
    }
   ],
   "source": [
    "print(4 // 3)"
   ]
  },
  {
   "cell_type": "code",
   "execution_count": 3,
   "id": "21021f3f",
   "metadata": {},
   "outputs": [
    {
     "name": "stdout",
     "output_type": "stream",
     "text": [
      "1\n"
     ]
    }
   ],
   "source": [
    "print(5 // 3)"
   ]
  },
  {
   "cell_type": "code",
   "execution_count": 5,
   "id": "5b9d9ac8",
   "metadata": {},
   "outputs": [
    {
     "name": "stdout",
     "output_type": "stream",
     "text": [
      "숫자  : 10\n",
      "55\n"
     ]
    }
   ],
   "source": [
    "x = int(input(\"숫자  : \"))\n",
    "sum = 0\n",
    "for i in range(x+1):\n",
    "    sum +=i \n",
    "print(sum)"
   ]
  },
  {
   "cell_type": "code",
   "execution_count": 7,
   "id": "b1ee37a3",
   "metadata": {},
   "outputs": [
    {
     "name": "stdout",
     "output_type": "stream",
     "text": [
      "숫자  : 10\n",
      "3628800\n"
     ]
    }
   ],
   "source": [
    "x = int(input(\"숫자  : \"))\n",
    "sum = 1\n",
    "for i in range(1,x+1):\n",
    "    sum *= i \n",
    "print(sum)"
   ]
  },
  {
   "cell_type": "code",
   "execution_count": 14,
   "id": "e576185e",
   "metadata": {},
   "outputs": [
    {
     "name": "stdout",
     "output_type": "stream",
     "text": [
      "[1, 2, 3, 4]\n",
      "140265876440768\n",
      "140265876440768\n",
      "140265876441024\n"
     ]
    }
   ],
   "source": [
    "my_list = [1,2,3,4]\n",
    "print(my_list)\n",
    "my_list.append(5)\n",
    "print(id(my_list))\n",
    "my_list.remove(1)\n",
    "print(id(my_list))\n",
    "my_list2 = [1,2,3,4]\n",
    "print(id(my_list2))"
   ]
  },
  {
   "cell_type": "code",
   "execution_count": 12,
   "id": "486d3ab8",
   "metadata": {},
   "outputs": [
    {
     "name": "stdout",
     "output_type": "stream",
     "text": [
      "140265578883664\n",
      "140265578883632\n"
     ]
    }
   ],
   "source": [
    "x = 10 \n",
    "print(id(x))\n",
    "x = 9\n",
    "print(id(x))"
   ]
  },
  {
   "cell_type": "code",
   "execution_count": 18,
   "id": "6e49c3d7",
   "metadata": {},
   "outputs": [
    {
     "name": "stdout",
     "output_type": "stream",
     "text": [
      "34\n"
     ]
    },
    {
     "data": {
      "text/plain": [
       "'Life'"
      ]
     },
     "execution_count": 18,
     "metadata": {},
     "output_type": "execute_result"
    }
   ],
   "source": [
    "#slicing\n",
    "x = \"Life is too short, You need Python\"\n",
    "print(len(x))\n",
    "x[0:4]"
   ]
  },
  {
   "cell_type": "code",
   "execution_count": null,
   "id": "88104416",
   "metadata": {},
   "outputs": [],
   "source": []
  }
 ],
 "metadata": {
  "kernelspec": {
   "display_name": "Python 3 (ipykernel)",
   "language": "python",
   "name": "python3"
  },
  "language_info": {
   "codemirror_mode": {
    "name": "ipython",
    "version": 3
   },
   "file_extension": ".py",
   "mimetype": "text/x-python",
   "name": "python",
   "nbconvert_exporter": "python",
   "pygments_lexer": "ipython3",
   "version": "3.9.5"
  }
 },
 "nbformat": 4,
 "nbformat_minor": 5
}
