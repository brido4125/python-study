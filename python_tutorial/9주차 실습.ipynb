{
 "cells": [
  {
   "cell_type": "code",
   "execution_count": 72,
   "id": "a5de2e76",
   "metadata": {},
   "outputs": [
    {
     "name": "stdout",
     "output_type": "stream",
     "text": [
      "[39.2, 38.7, 38.6, 38.5, 38.4, 38.3, 38.1, 38.0, 38.0, 37.9]\n",
      "[-7.6, -6.1, -5.8, -4.6, -4.4, -4.4, -4.4, -4.3, -4.2, -3.9]\n"
     ]
    }
   ],
   "source": [
    "import numpy as np\n",
    "import csv\n",
    "f = open('tague.csv','r',encoding='cp949')\n",
    "data = csv.reader(f,delimiter = ',')\n",
    "header = next(data)\n",
    "dic = {}\n",
    "temp_list = []\n",
    "for row in data:\n",
    "    if row[4] != '':\n",
    "        dic[row[4]] = row[0]\n",
    "        temp_list.append(float(row[4]))\n",
    "\n",
    "min_temp = 99999\n",
    "max_temp = -99999\n",
    "        \n",
    "max_list = []\n",
    "min_list = []\n",
    "\n",
    "for i in range(10):\n",
    "    max_list.append(np.max(temp_list))\n",
    "    min_list.append(np.min(temp_list))\n",
    "    temp_list.remove(np.max(temp_list))\n",
    "    temp_list.remove(np.min(temp_list))\n",
    "\n",
    "print(max_list)\n",
    "print(min_list)\n",
    "    \n",
    "f.close()"
   ]
  },
  {
   "cell_type": "code",
   "execution_count": null,
   "id": "5adfbcfd",
   "metadata": {},
   "outputs": [],
   "source": []
  },
  {
   "cell_type": "code",
   "execution_count": null,
   "id": "ed8b8e87",
   "metadata": {},
   "outputs": [],
   "source": []
  }
 ],
 "metadata": {
  "kernelspec": {
   "display_name": "Python 3 (ipykernel)",
   "language": "python",
   "name": "python3"
  },
  "language_info": {
   "codemirror_mode": {
    "name": "ipython",
    "version": 3
   },
   "file_extension": ".py",
   "mimetype": "text/x-python",
   "name": "python",
   "nbconvert_exporter": "python",
   "pygments_lexer": "ipython3",
   "version": "3.9.5"
  }
 },
 "nbformat": 4,
 "nbformat_minor": 5
}
