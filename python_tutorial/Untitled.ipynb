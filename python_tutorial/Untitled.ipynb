{
 "cells": [
  {
   "cell_type": "code",
   "execution_count": 10,
   "id": "cf389b45",
   "metadata": {},
   "outputs": [
    {
     "name": "stdout",
     "output_type": "stream",
     "text": [
      "hi\n",
      "hi\n",
      "hi\n",
      "hi\n",
      "hi\n",
      "hi\n",
      "hi\n",
      "hi\n",
      "hi\n",
      "hi\n",
      "hi\n",
      "hi\n"
     ]
    }
   ],
   "source": [
    "for i in range(12):#i => j => k\n",
    "    print(\"hi\")"
   ]
  },
  {
   "cell_type": "code",
   "execution_count": 11,
   "id": "e183acb5",
   "metadata": {},
   "outputs": [
    {
     "name": "stdout",
     "output_type": "stream",
     "text": [
      "123\n",
      "123\n",
      "45\n",
      "2312\n"
     ]
    }
   ],
   "source": [
    "list = [123,123,45,2312]\n",
    "for i in list:\n",
    "    print(i)"
   ]
  },
  {
   "cell_type": "code",
   "execution_count": 15,
   "id": "43271b68",
   "metadata": {},
   "outputs": [
    {
     "name": "stdout",
     "output_type": "stream",
     "text": [
      "{1: 0, 2: 0, 3: 0, 4: 0}\n"
     ]
    }
   ],
   "source": [
    "x = [1,2,3,4,4,2,3,1,1]\n",
    "count = {}\n",
    "\n",
    "for n in x:\n",
    "    if(n == count[])\n",
    "    count[n] = \n",
    "    \n",
    "for n in x:\n",
    "    if count[n] == n:\n",
    "        count[n] = count[n] + 1\n",
    "\n",
    "print(count)"
   ]
  },
  {
   "cell_type": "code",
   "execution_count": 9,
   "id": "10908dde",
   "metadata": {},
   "outputs": [
    {
     "name": "stdout",
     "output_type": "stream",
     "text": [
      "type the sentence : 01.3232\n",
      "01.3232\n",
      "01.3232\n",
      "01.3232\n",
      "01.3232\n",
      "01.3232\n",
      "01.3232\n"
     ]
    }
   ],
   "source": [
    "x = input(\"type the sentence : \")\n",
    "print(x)\n",
    "for i in range(5):\n",
    "    print(x)"
   ]
  },
  {
   "cell_type": "code",
   "execution_count": 5,
   "id": "d1a489a3",
   "metadata": {},
   "outputs": [
    {
     "name": "stdout",
     "output_type": "stream",
     "text": [
      "[1, 2, 3, 4, 5]\n",
      "15\n",
      "120\n"
     ]
    }
   ],
   "source": [
    "# List -> 자바에서 동일한 테이터 타입을 담는 자료구조 -> 배열!\n",
    "# int[] ary = new int[5]; -> 5개의 int타입 데이터를 받는 자료구조\n",
    "my_list = [1,2,3,4,5]\n",
    "print(my_list)\n",
    "# 동일한 데이터 타입이 아니더라도 같은 리스트에 담을 수 있다.\n",
    "sum = 0 # 누적합\n",
    "mul = 1 # 누적곱\n",
    "for element in my_list:\n",
    "    sum += element\n",
    "    mul *= element\n",
    "print(sum)\n",
    "print(mul)"
   ]
  },
  {
   "cell_type": "code",
   "execution_count": 9,
   "id": "56edd86f",
   "metadata": {},
   "outputs": [
    {
     "name": "stdout",
     "output_type": "stream",
     "text": [
      "List의 길이= 4\n",
      "1\n",
      "2\n",
      "3\n",
      "[1, 3, 2]\n"
     ]
    }
   ],
   "source": [
    "#List는 또 다른 List를 요소를 받을 수 있다.\n",
    "my_list = [1,2,3,[1,3,2]]\n",
    "print(\"List의 길이=\",len(my_list))\n",
    "for element in my_list:\n",
    "    print(element)"
   ]
  },
  {
   "cell_type": "code",
   "execution_count": 14,
   "id": "ec953ca9",
   "metadata": {},
   "outputs": [
    {
     "name": "stdout",
     "output_type": "stream",
     "text": [
      "True\n",
      "7 은 없습니다\n"
     ]
    }
   ],
   "source": [
    "my_list = [1,2,3,4,5]\n",
    "x = 7\n",
    "print(x not in my_list)\n",
    "if x not in my_list:\n",
    "    print(x,\"은 없습니다\")\n",
    "    "
   ]
  },
  {
   "cell_type": "code",
   "execution_count": null,
   "id": "5b842193",
   "metadata": {},
   "outputs": [],
   "source": []
  }
 ],
 "metadata": {
  "kernelspec": {
   "display_name": "Python 3 (ipykernel)",
   "language": "python",
   "name": "python3"
  },
  "language_info": {
   "codemirror_mode": {
    "name": "ipython",
    "version": 3
   },
   "file_extension": ".py",
   "mimetype": "text/x-python",
   "name": "python",
   "nbconvert_exporter": "python",
   "pygments_lexer": "ipython3",
   "version": "3.9.5"
  }
 },
 "nbformat": 4,
 "nbformat_minor": 5
}
