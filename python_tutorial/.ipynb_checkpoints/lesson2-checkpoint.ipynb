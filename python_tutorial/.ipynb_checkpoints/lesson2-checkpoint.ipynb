{
 "cells": [
  {
   "cell_type": "code",
   "execution_count": 4,
   "id": "9a9b2293",
   "metadata": {},
   "outputs": [
    {
     "name": "stdout",
     "output_type": "stream",
     "text": [
      "this is not a block code\n"
     ]
    }
   ],
   "source": [
    "x = True\n",
    "\n",
    "if(x == False):    \n",
    "    print(\"true\")\n",
    "    print(\"hello\")\n",
    "    #...\n",
    "print(\"this is not a block code\")"
   ]
  },
  {
   "cell_type": "code",
   "execution_count": 5,
   "id": "db2176d3",
   "metadata": {},
   "outputs": [
    {
     "name": "stdout",
     "output_type": "stream",
     "text": [
      "true\n"
     ]
    }
   ],
   "source": [
    "if(10 > 1):# True 반환함.\n",
    "    print(\"true\")"
   ]
  },
  {
   "cell_type": "code",
   "execution_count": 6,
   "id": "6a1ded71",
   "metadata": {},
   "outputs": [
    {
     "name": "stdout",
     "output_type": "stream",
     "text": [
      "2022-01-21 14:49:55.701515\n"
     ]
    }
   ],
   "source": [
    "import datetime\n",
    "\n",
    "now = datetime.datetime.now()\n",
    "\n",
    "print(now)"
   ]
  },
  {
   "cell_type": "code",
   "execution_count": null,
   "id": "1d366a04",
   "metadata": {},
   "outputs": [],
   "source": [
    "#계산하고 싶은 연도를 입력받은후, 해당 년도가 윤년인지 계산하는 프로그램"
   ]
  },
  {
   "cell_type": "code",
   "execution_count": 8,
   "id": "c3447397",
   "metadata": {},
   "outputs": [
    {
     "name": "stdout",
     "output_type": "stream",
     "text": [
      "점수를 입력하세요 : 3.2\n"
     ]
    }
   ],
   "source": [
    "x = float(input(\"점수를 입력하세요 : \"))\n",
    "grade = ' '\n",
    "if(x >= 4.0):\n",
    "    grade = 'A'\n",
    "elif(x >= 3.0):\n",
    "    grade = 'B'\n",
    "elif(x >= 2.0):\n",
    "    grade = 'C'\n",
    "else:\n",
    "    grade = 'D'\n",
    "print(grade)\n",
    "    "
   ]
  },
  {
   "cell_type": "code",
   "execution_count": null,
   "id": "0cc9df7b",
   "metadata": {},
   "outputs": [],
   "source": []
  }
 ],
 "metadata": {
  "kernelspec": {
   "display_name": "Python 3 (ipykernel)",
   "language": "python",
   "name": "python3"
  },
  "language_info": {
   "codemirror_mode": {
    "name": "ipython",
    "version": 3
   },
   "file_extension": ".py",
   "mimetype": "text/x-python",
   "name": "python",
   "nbconvert_exporter": "python",
   "pygments_lexer": "ipython3",
   "version": "3.9.5"
  }
 },
 "nbformat": 4,
 "nbformat_minor": 5
}
