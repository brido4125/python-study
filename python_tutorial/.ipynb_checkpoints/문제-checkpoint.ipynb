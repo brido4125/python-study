{
 "cells": [
  {
   "cell_type": "code",
   "execution_count": 2,
   "id": "e01df0e7",
   "metadata": {},
   "outputs": [
    {
     "name": "stdout",
     "output_type": "stream",
     "text": [
      "HELLO\n",
      "hello\n",
      "WORLD\n",
      "world\n"
     ]
    }
   ],
   "source": [
    "# 문자열 입력 받은 뒤, 해당 문자열 변수에 대문자가 있을 경우 소문자로 변경하여 출력하기\n",
    "# 끝말잇기(eng version) => input() => \n",
    "# \"test\",\"hello\" => String의 마지막 index만 보면 되잖아\n",
    "# java => apple => element"
   ]
  },
  {
   "cell_type": "code",
   "execution_count": 15,
   "id": "5036657b",
   "metadata": {},
   "outputs": [
    {
     "name": "stdout",
     "output_type": "stream",
     "text": [
      "input string : hi\n",
      "input new string : Iterm\n",
      "Wrong Sentence\n"
     ]
    }
   ],
   "source": [
    "# x라는 변수에 문자열을 대입, \n",
    "# last라는 변수에 문자열 x의 마지막 인덱스의 문자를 대입\n",
    "# while => 변수 x에 새로운 문자열을 대입\n",
    "\n",
    "x = input(\"input string : \")\n",
    "last = x[len(x)-1] # 옛날 문자열의 제일 끝 문자\n",
    "while True:\n",
    "    x = input(\"input new string : \")\n",
    "    if(last != x[0]):# x[0] => 새롭게 받은 문자열의 첫번째 문자\n",
    "        break;\n",
    "    last = x[len(x)-1]\n",
    "    \n",
    "print(\"Wrong Sentence\")"
   ]
  },
  {
   "cell_type": "code",
   "execution_count": null,
   "id": "2b3db9be",
   "metadata": {},
   "outputs": [],
   "source": []
  }
 ],
 "metadata": {
  "kernelspec": {
   "display_name": "Python 3 (ipykernel)",
   "language": "python",
   "name": "python3"
  },
  "language_info": {
   "codemirror_mode": {
    "name": "ipython",
    "version": 3
   },
   "file_extension": ".py",
   "mimetype": "text/x-python",
   "name": "python",
   "nbconvert_exporter": "python",
   "pygments_lexer": "ipython3",
   "version": "3.9.5"
  }
 },
 "nbformat": 4,
 "nbformat_minor": 5
}
