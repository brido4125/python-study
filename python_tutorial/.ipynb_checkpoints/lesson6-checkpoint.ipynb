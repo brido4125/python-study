{
 "cells": [
  {
   "cell_type": "code",
   "execution_count": 1,
   "id": "59e5c351",
   "metadata": {},
   "outputs": [
    {
     "name": "stdout",
     "output_type": "stream",
     "text": [
      "hello\n"
     ]
    }
   ],
   "source": [
    "print(\"hello\")#method,function"
   ]
  },
  {
   "cell_type": "code",
   "execution_count": 3,
   "id": "ea060bc3",
   "metadata": {},
   "outputs": [
    {
     "name": "stdout",
     "output_type": "stream",
     "text": [
      "hello\n",
      "hello\n"
     ]
    }
   ],
   "source": [
    "#함수의 선언\n",
    "def myFunction():\n",
    "    print(\"hello\")\n",
    "    print(\"hello\")\n",
    "\n",
    "#호출!=> 해당 기능을 쓰기위해 함수를 사용\n",
    "myFunction()"
   ]
  },
  {
   "cell_type": "code",
   "execution_count": 4,
   "id": "a2fe692d",
   "metadata": {},
   "outputs": [
    {
     "name": "stdout",
     "output_type": "stream",
     "text": [
      "14\n"
     ]
    }
   ],
   "source": [
    "# x,y라는 parameter가 들어오면, x+y라는 value를 return한다.\n",
    "# paramter vs argument\n",
    "def myAdd(x,y):# <= x,y -> parameter\n",
    "    return x + y\n",
    "\n",
    "print(myAdd(5,9))# -> 5,9 are arguments"
   ]
  },
  {
   "cell_type": "code",
   "execution_count": 9,
   "id": "cb5ba5eb",
   "metadata": {},
   "outputs": [
    {
     "name": "stdout",
     "output_type": "stream",
     "text": [
      "(1,)\n",
      "11\n",
      "(1, 5)\n",
      "16\n",
      "(1, 5, 22, 55)\n",
      "93\n"
     ]
    }
   ],
   "source": [
    "# 가변 매개변수 => 매개변수의 개수가 정해져 있지 않은 함수!\n",
    "# 내부 동작 방식 => values data type : tuple\n",
    "def myVarAdd(x,*values):\n",
    "    sum = 0\n",
    "    for i in range(len(values)):\n",
    "        sum += values[i]#tuple의 누적합\n",
    "    print(values)\n",
    "    return x + sum\n",
    "\n",
    "print(myVarAdd(10,1))# argument 2개 \n",
    "print(myVarAdd(10,1,5))# argument 3개\n",
    "print(myVarAdd(10,1,5,22,55))# argument 5개"
   ]
  },
  {
   "cell_type": "code",
   "execution_count": 10,
   "id": "d93216b0",
   "metadata": {},
   "outputs": [
    {
     "name": "stdout",
     "output_type": "stream",
     "text": [
      "200\n",
      "400\n"
     ]
    }
   ],
   "source": [
    "#Default Parameter(기본 매개변수)\n",
    "def myDefaultAdd(x,y=100):# x,y라는 두개의 매개변수가 존재\n",
    "    return x + y;\n",
    "\n",
    "print(myDefaultAdd(100))# 100 + 100 = 200\n",
    "print(myDefaultAdd(100,300))"
   ]
  },
  {
   "cell_type": "code",
   "execution_count": 11,
   "id": "a714276f",
   "metadata": {},
   "outputs": [
    {
     "name": "stdout",
     "output_type": "stream",
     "text": [
      "hello\n"
     ]
    }
   ],
   "source": [
    "def returnTest():\n",
    "    print(\"hello\")\n",
    "    return # 함수를 종료시켜서 그 이후의 문장이 실행되지 않음.\n",
    "    print(\"test\")\n",
    "    \n",
    "returnTest()"
   ]
  },
  {
   "cell_type": "code",
   "execution_count": 13,
   "id": "d037c922",
   "metadata": {},
   "outputs": [
    {
     "name": "stdout",
     "output_type": "stream",
     "text": [
      "55\n"
     ]
    }
   ],
   "source": [
    "#reculsive function call => 동일한 함수를 내부에서 스스로 다시 한번 호출하는 형태\n",
    "# 1 1 2 3 5 8 13\n",
    "def fibonacci(n):\n",
    "    if(n == 1):\n",
    "        return 1\n",
    "    elif(n == 2):\n",
    "        return 1\n",
    "    else:\n",
    "        return fibonacci(n-1) + fibonacci(n-2) # reculsive(재귀 호출)\n",
    "print(fibonacci(10))"
   ]
  },
  {
   "cell_type": "code",
   "execution_count": null,
   "id": "c3b82be8",
   "metadata": {},
   "outputs": [],
   "source": []
  }
 ],
 "metadata": {
  "kernelspec": {
   "display_name": "Python 3 (ipykernel)",
   "language": "python",
   "name": "python3"
  },
  "language_info": {
   "codemirror_mode": {
    "name": "ipython",
    "version": 3
   },
   "file_extension": ".py",
   "mimetype": "text/x-python",
   "name": "python",
   "nbconvert_exporter": "python",
   "pygments_lexer": "ipython3",
   "version": "3.9.5"
  }
 },
 "nbformat": 4,
 "nbformat_minor": 5
}
