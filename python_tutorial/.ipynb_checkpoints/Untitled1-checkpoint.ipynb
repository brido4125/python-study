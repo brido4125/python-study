{
 "cells": [
  {
   "cell_type": "code",
   "execution_count": null,
   "id": "7caaaab9",
   "metadata": {},
   "outputs": [],
   "source": [
    "x = int(input(\"숫자를 입력하세요 : \"))\n",
    "if( x < 100):\n",
    "    print(\"유치원생입니다.\")\n",
    "elif( x < 160):\n",
    "    print(\"초딩입니다.\")\n",
    "elif( x < 170):\n",
    "    print(\"중딩입니다.\")\n",
    "elif( x < 175):\n",
    "    print(\"고딩입니다.\")\n",
    "else:\n",
    "    print(\"성인입니다.\")"
   ]
  },
  {
   "cell_type": "code",
   "execution_count": null,
   "id": "df8b5b34",
   "metadata": {},
   "outputs": [],
   "source": []
  }
 ],
 "metadata": {
  "kernelspec": {
   "display_name": "Python 3 (ipykernel)",
   "language": "python",
   "name": "python3"
  },
  "language_info": {
   "codemirror_mode": {
    "name": "ipython",
    "version": 3
   },
   "file_extension": ".py",
   "mimetype": "text/x-python",
   "name": "python",
   "nbconvert_exporter": "python",
   "pygments_lexer": "ipython3",
   "version": "3.9.5"
  }
 },
 "nbformat": 4,
 "nbformat_minor": 5
}
