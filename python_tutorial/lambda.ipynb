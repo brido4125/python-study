{
 "cells": [
  {
   "cell_type": "code",
   "execution_count": 4,
   "id": "84e7a86b",
   "metadata": {},
   "outputs": [
    {
     "data": {
      "text/plain": [
       "40"
      ]
     },
     "execution_count": 4,
     "metadata": {},
     "output_type": "execute_result"
    }
   ],
   "source": [
    "#lambda 매개변수들: 식\n",
    "tenAdd = lambda x,y:x + y + 10\n",
    "tenAdd(10,20)"
   ]
  },
  {
   "cell_type": "code",
   "execution_count": null,
   "id": "73fe5e8d",
   "metadata": {},
   "outputs": [],
   "source": [
    "# map(method,list or tuple) => return list\n",
    "# 2번째 매개변수(list or tuple)로 받아서 1번째 매개변수의 함수에 작업 후\n",
    "# 새로운 List로 반환하는 메서드"
   ]
  }
 ],
 "metadata": {
  "kernelspec": {
   "display_name": "Python 3 (ipykernel)",
   "language": "python",
   "name": "python3"
  },
  "language_info": {
   "codemirror_mode": {
    "name": "ipython",
    "version": 3
   },
   "file_extension": ".py",
   "mimetype": "text/x-python",
   "name": "python",
   "nbconvert_exporter": "python",
   "pygments_lexer": "ipython3",
   "version": "3.9.5"
  }
 },
 "nbformat": 4,
 "nbformat_minor": 5
}
