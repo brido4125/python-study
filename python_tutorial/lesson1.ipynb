{
 "cells": [
  {
   "cell_type": "code",
   "execution_count": 4,
   "id": "44b21426",
   "metadata": {},
   "outputs": [
    {
     "name": "stdout",
     "output_type": "stream",
     "text": [
      "81\n"
     ]
    }
   ],
   "source": [
    "a = 3\n",
    "b = 4\n",
    "print(a ** b)# a의 b 제곱을 계산해줌!"
   ]
  },
  {
   "cell_type": "code",
   "execution_count": 5,
   "id": "c7b19c65",
   "metadata": {},
   "outputs": [
    {
     "name": "stdout",
     "output_type": "stream",
     "text": [
      "3\n"
     ]
    }
   ],
   "source": [
    "a = 123 % 4 # modula 연산 => 나머지를 구해준다.\n",
    "print(a)"
   ]
  },
  {
   "cell_type": "code",
   "execution_count": 7,
   "id": "1c11ac7b",
   "metadata": {},
   "outputs": [
    {
     "name": "stdout",
     "output_type": "stream",
     "text": [
      "3.25\n",
      "3\n"
     ]
    }
   ],
   "source": [
    "print( 13 / 4 )\n",
    "print( 13 // 4 ) # 몫의 값만 연산해줌"
   ]
  },
  {
   "cell_type": "code",
   "execution_count": 10,
   "id": "33ecb7bd",
   "metadata": {},
   "outputs": [
    {
     "name": "stdout",
     "output_type": "stream",
     "text": [
      "hello, this is python1\n",
      "hello, this is python2\n",
      "hello, this is python3 \n",
      "hello, this is python4 \n"
     ]
    }
   ],
   "source": [
    "x = \"hello, this is python1\" # 전부 다 이거씀!\n",
    "y = 'hello, this is python2'\n",
    "z = \"\"\"hello, this is python3 \"\"\"\n",
    "q = '''hello, this is python4 '''\n",
    "\n",
    "print(x)\n",
    "print(y)\n",
    "print(z)\n",
    "print(q)"
   ]
  },
  {
   "cell_type": "code",
   "execution_count": 11,
   "id": "b90a97c1",
   "metadata": {},
   "outputs": [
    {
     "name": "stdout",
     "output_type": "stream",
     "text": [
      "Python's favorite food is perl\n",
      "\"Python is very easy.\" he says.\n"
     ]
    }
   ],
   "source": [
    "food = 'Python\\'s favorite food is perl'\n",
    "say = \"\\\"Python is very easy.\\\" he says.\"\n",
    "\n",
    "print(food)\n",
    "print(say)"
   ]
  },
  {
   "cell_type": "code",
   "execution_count": 15,
   "id": "92a6802c",
   "metadata": {},
   "outputs": [
    {
     "name": "stdout",
     "output_type": "stream",
     "text": [
      "hi this is chang sub \n",
      "speak please\n"
     ]
    }
   ],
   "source": [
    "sentence = \"hi this is chang sub \\nspeak please\"\n",
    "print(sentence)"
   ]
  },
  {
   "cell_type": "code",
   "execution_count": 16,
   "id": "e9accf1e",
   "metadata": {},
   "outputs": [
    {
     "name": "stdout",
     "output_type": "stream",
     "text": [
      "hi this is chang sub \tspeak please\n"
     ]
    }
   ],
   "source": [
    "sentence = \"hi this is chang sub \\tspeak please\"\n",
    "print(sentence)\n",
    "#if문 indenting => space bar 4 = tab 1"
   ]
  },
  {
   "cell_type": "code",
   "execution_count": 25,
   "id": "d004484e",
   "metadata": {},
   "outputs": [
    {
     "ename": "SyntaxError",
     "evalue": "unexpected character after line continuation character (1226062835.py, line 2)",
     "output_type": "error",
     "traceback": [
      "\u001b[0;36m  File \u001b[0;32m\"/var/folders/xp/9fsr3fbn58g37k8wgk4tllp40000gn/T/ipykernel_12459/1226062835.py\"\u001b[0;36m, line \u001b[0;32m2\u001b[0m\n\u001b[0;31m    print(\\n) # argument -> a * 12\u001b[0m\n\u001b[0m                                 ^\u001b[0m\n\u001b[0;31mSyntaxError\u001b[0m\u001b[0;31m:\u001b[0m unexpected character after line continuation character\n"
     ]
    }
   ],
   "source": [
    "a = \"hello \\n\"\n",
    "print(a * 12) # argument\n",
    "# print(argument) => 함수. -> y = f(x)"
   ]
  },
  {
   "cell_type": "code",
   "execution_count": 22,
   "id": "482c2f46",
   "metadata": {},
   "outputs": [
    {
     "name": "stdout",
     "output_type": "stream",
     "text": [
      "Python is fun!\n"
     ]
    }
   ],
   "source": [
    "head = \"Python\"\n",
    "tail = \" is fun!\"\n",
    "print(head + tail)"
   ]
  },
  {
   "cell_type": "code",
   "execution_count": 45,
   "id": "81e0d5f1",
   "metadata": {},
   "outputs": [
    {
     "data": {
      "text/plain": [
       "22"
      ]
     },
     "execution_count": 45,
     "metadata": {},
     "output_type": "execute_result"
    }
   ],
   "source": [
    "dummy = \"Lorem ipsum, or lipsum as it is sometimes known, is dummy text used in laying out print, graphic or web designs. The passage is attributed to an unknown typesetter in the 15th century who is thought to have scrambled parts of Cicero's De Finibus Bonorum et Malorum for use in a type specimen book. It usually begins with:Lorem ipsum dolor sit amet, consectetur adipiscing elit, sed do eiusmod tempor incididunt ut labore et dolore magna aliqua.The purpose of lorem ipsum is to create a natural looking block of text (sentence, paragraph, page, etc.) that doesn't distract from the layout. A practice not without controversy, laying out pages with meaningless filler text can be very useful when the focus is meant to be on design, not content.The passage experienced a surge in popularity during the 1960s when Letraset used it on their dry-transfer sheets, and again during the 90s as desktop publishers bundled the text with their software. Today it's seen all around the web; on templates, websites, and stock designs. Use our generator to get your own, or read on for the authoritative history of lorem ipsum.\"\n",
    "len(dummy)\n",
    "dummy.count('c') # c가 몇번 나왓냐?\n"
   ]
  },
  {
   "cell_type": "code",
   "execution_count": 44,
   "id": "6a08d226",
   "metadata": {},
   "outputs": [
    {
     "name": "stdout",
     "output_type": "stream",
     "text": [
      "ife is too short, You need Pytho\n"
     ]
    }
   ],
   "source": [
    "a = \"Life is too short, You need Python\"\n",
    "# a[4] # a의 index 1인 문자, 모든 string(문자열)은 0번째 부터 시작\n",
    "# a[-1]\n",
    "# 주석은 코드에 아무런 영향을 주지 않는다. 쉽게말하면 설명을 위한 코드!\n",
    "# this is not ...\n",
    "# a[-1:4] => 원하는 결과 나오지 않음 => slicing 자체가 한 방향으로만 진행\n",
    "print(a[1:-1])"
   ]
  },
  {
   "cell_type": "code",
   "execution_count": 55,
   "id": "2a7229a5",
   "metadata": {},
   "outputs": [
    {
     "name": "stdout",
     "output_type": "stream",
     "text": [
      "pineapple melon\n",
      "['melon']\n"
     ]
    }
   ],
   "source": [
    "kind_of_fruit = ['pineapple','melon',\"peach\"] # 요소 or 원소\n",
    "print(kind_of_fruit[0] + \" \" + kind_of_fruit[1])\n",
    "print(kind_of_fruit[1:2])"
   ]
  },
  {
   "cell_type": "code",
   "execution_count": 63,
   "id": "54e62dc0",
   "metadata": {},
   "outputs": [
    {
     "name": "stdout",
     "output_type": "stream",
     "text": [
      "['pineapple', 'melon', 'peach', [1, 2, 3], 123, 12.4312]\n",
      "3\n"
     ]
    }
   ],
   "source": [
    "mixed = ['pineapple','melon',\"peach\",[1,2,3],123,12.4312] # 요소 or 원소\n",
    "print(mixed)\n",
    "print(mixed[3][2]) # first index -> 요소 찾기, second -> 요소가 list인 경우 해다 list의 요소찾기"
   ]
  },
  {
   "cell_type": "code",
   "execution_count": 67,
   "id": "c11f24cd",
   "metadata": {},
   "outputs": [
    {
     "data": {
      "text/plain": [
       "'3hi'"
      ]
     },
     "execution_count": 67,
     "metadata": {},
     "output_type": "execute_result"
    }
   ],
   "source": [
    "a = [1, 2, 3]\n",
    "# 3이라는 정수를 '3'이라는 string으로 변환! data type casting \n",
    "str(a[2]) + \"hi\""
   ]
  },
  {
   "cell_type": "code",
   "execution_count": null,
   "id": "3812dece",
   "metadata": {},
   "outputs": [],
   "source": []
  }
 ],
 "metadata": {
  "kernelspec": {
   "display_name": "Python 3 (ipykernel)",
   "language": "python",
   "name": "python3"
  },
  "language_info": {
   "codemirror_mode": {
    "name": "ipython",
    "version": 3
   },
   "file_extension": ".py",
   "mimetype": "text/x-python",
   "name": "python",
   "nbconvert_exporter": "python",
   "pygments_lexer": "ipython3",
   "version": "3.9.5"
  }
 },
 "nbformat": 4,
 "nbformat_minor": 5
}
