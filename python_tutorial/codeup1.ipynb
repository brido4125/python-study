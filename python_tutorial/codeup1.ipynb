{
 "cells": [
  {
   "cell_type": "code",
   "execution_count": 3,
   "id": "4ef7d09d",
   "metadata": {},
   "outputs": [
    {
     "name": "stdout",
     "output_type": "stream",
     "text": [
      "12\n"
     ]
    },
    {
     "data": {
      "text/plain": [
       "'1'"
      ]
     },
     "execution_count": 3,
     "metadata": {},
     "output_type": "execute_result"
    }
   ],
   "source": [
    "time = input()\n",
    "time[0]\n"
   ]
  },
  {
   "cell_type": "code",
   "execution_count": 6,
   "id": "e3e35a2b",
   "metadata": {},
   "outputs": [
    {
     "name": "stdout",
     "output_type": "stream",
     "text": [
      "<class 'str'>\n"
     ]
    }
   ],
   "source": [
    "print(type(\"안녕하세요\"))"
   ]
  },
  {
   "cell_type": "code",
   "execution_count": 8,
   "id": "d24b26cf",
   "metadata": {},
   "outputs": [
    {
     "name": "stdout",
     "output_type": "stream",
     "text": [
      "3\n",
      "3\n"
     ]
    }
   ],
   "source": [
    "num = int(input())\n",
    "print(num)"
   ]
  },
  {
   "cell_type": "code",
   "execution_count": 10,
   "id": "cad733db",
   "metadata": {},
   "outputs": [
    {
     "name": "stdout",
     "output_type": "stream",
     "text": [
      "정수입력 :4\n",
      "정수입력 :888\n",
      "4\n",
      "888\n"
     ]
    }
   ],
   "source": [
    "x = int(input(\"정수입력 :\"))\n",
    "y = int(input(\"정수입력 :\"))\n",
    "print(x)\n",
    "print(y)"
   ]
  },
  {
   "cell_type": "code",
   "execution_count": 9,
   "id": "da58a7a2",
   "metadata": {},
   "outputs": [
    {
     "name": "stdout",
     "output_type": "stream",
     "text": [
      "문자열을 입력하세요 : abCDEF AS DFDAASD ZZDDAAa\n",
      "abcdef as dfdaasd zzddaaa\n",
      "7\n"
     ]
    }
   ],
   "source": [
    "# 원의 반지름을 입력 받고 해당 원의 넓이를 구하는 프로그램 작성!\n",
    "# input = \"abCDEF AS DFDAASD ZZDDAAa\"\n",
    "x = input(\"문자열을 입력하세요 : \")\n",
    "x = x.lower()\n",
    "print(x)\n",
    "count = 0\n",
    "# x.find('a') => find()의 반환형 : 'a'가 존재할 경우 해당 문자의 index or 없으면 -1\n",
    "# \"abcef as DFDAASD ZZDDAAa\" => find로는 반복불가!\n",
    "# 해당 구조는 모든 string 요소에 접근\n",
    "for i in x:\n",
    "    if(i == 'a'):\n",
    "        count = count + 1\n",
    "    \n",
    "print(count)"
   ]
  },
  {
   "cell_type": "code",
   "execution_count": null,
   "id": "e9a2618e",
   "metadata": {},
   "outputs": [],
   "source": []
  }
 ],
 "metadata": {
  "kernelspec": {
   "display_name": "Python 3 (ipykernel)",
   "language": "python",
   "name": "python3"
  },
  "language_info": {
   "codemirror_mode": {
    "name": "ipython",
    "version": 3
   },
   "file_extension": ".py",
   "mimetype": "text/x-python",
   "name": "python",
   "nbconvert_exporter": "python",
   "pygments_lexer": "ipython3",
   "version": "3.9.5"
  }
 },
 "nbformat": 4,
 "nbformat_minor": 5
}
